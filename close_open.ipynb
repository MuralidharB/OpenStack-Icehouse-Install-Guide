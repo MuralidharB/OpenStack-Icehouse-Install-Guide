{
  "cells": [
    {
      "cell_type": "markdown",
      "metadata": {
        "id": "view-in-github",
        "colab_type": "text"
      },
      "source": [
        "<a href=\"https://colab.research.google.com/github/MuralidharB/OpenStack-Icehouse-Install-Guide/blob/master/close_open.ipynb\" target=\"_parent\"><img src=\"https://colab.research.google.com/assets/colab-badge.svg\" alt=\"Open In Colab\"/></a>"
      ]
    },
    {
      "cell_type": "markdown",
      "metadata": {
        "id": "Y4h-M7UK4B7m"
      },
      "source": [
        "Small python script that plots the difference between close and open prices of s&p stocks"
      ]
    },
    {
      "cell_type": "code",
      "execution_count": 66,
      "metadata": {
        "id": "awfvEoNa3_OE",
        "colab": {
          "base_uri": "https://localhost:8080/"
        },
        "outputId": "e081854f-d6a5-412c-fa35-efd8bcb647a7"
      },
      "outputs": [
        {
          "output_type": "stream",
          "name": "stdout",
          "text": [
            "Looking in indexes: https://pypi.org/simple, https://us-python.pkg.dev/colab-wheels/public/simple/\n",
            "Requirement already satisfied: mxnet==1.6.0 in /usr/local/lib/python3.9/dist-packages (1.6.0)\n",
            "Requirement already satisfied: graphviz<0.9.0,>=0.8.1 in /usr/local/lib/python3.9/dist-packages (from mxnet==1.6.0) (0.8.4)\n",
            "Requirement already satisfied: requests<3,>=2.20.0 in /usr/local/lib/python3.9/dist-packages (from mxnet==1.6.0) (2.27.1)\n",
            "Requirement already satisfied: numpy<2.0.0,>1.16.0 in /usr/local/lib/python3.9/dist-packages (from mxnet==1.6.0) (1.22.4)\n",
            "Requirement already satisfied: certifi>=2017.4.17 in /usr/local/lib/python3.9/dist-packages (from requests<3,>=2.20.0->mxnet==1.6.0) (2022.12.7)\n",
            "Requirement already satisfied: idna<4,>=2.5 in /usr/local/lib/python3.9/dist-packages (from requests<3,>=2.20.0->mxnet==1.6.0) (3.4)\n",
            "Requirement already satisfied: charset-normalizer~=2.0.0 in /usr/local/lib/python3.9/dist-packages (from requests<3,>=2.20.0->mxnet==1.6.0) (2.0.12)\n",
            "Requirement already satisfied: urllib3<1.27,>=1.21.1 in /usr/local/lib/python3.9/dist-packages (from requests<3,>=2.20.0->mxnet==1.6.0) (1.26.15)\n",
            "Looking in indexes: https://pypi.org/simple, https://us-python.pkg.dev/colab-wheels/public/simple/\n",
            "Requirement already satisfied: gluonts in /usr/local/lib/python3.9/dist-packages (0.12.5)\n",
            "Requirement already satisfied: pydantic~=1.7 in /usr/local/lib/python3.9/dist-packages (from gluonts) (1.10.7)\n",
            "Requirement already satisfied: typing-extensions~=4.0 in /usr/local/lib/python3.9/dist-packages (from gluonts) (4.5.0)\n",
            "Requirement already satisfied: numpy~=1.16 in /usr/local/lib/python3.9/dist-packages (from gluonts) (1.22.4)\n",
            "Requirement already satisfied: tqdm~=4.23 in /usr/local/lib/python3.9/dist-packages (from gluonts) (4.65.0)\n",
            "Requirement already satisfied: pandas<3,>=1.0 in /usr/local/lib/python3.9/dist-packages (from gluonts) (1.4.4)\n",
            "Requirement already satisfied: toolz~=0.10 in /usr/local/lib/python3.9/dist-packages (from gluonts) (0.12.0)\n",
            "Requirement already satisfied: pytz>=2020.1 in /usr/local/lib/python3.9/dist-packages (from pandas<3,>=1.0->gluonts) (2022.7.1)\n",
            "Requirement already satisfied: python-dateutil>=2.8.1 in /usr/local/lib/python3.9/dist-packages (from pandas<3,>=1.0->gluonts) (2.8.2)\n",
            "Requirement already satisfied: six>=1.5 in /usr/local/lib/python3.9/dist-packages (from python-dateutil>=2.8.1->pandas<3,>=1.0->gluonts) (1.16.0)\n",
            "Looking in indexes: https://pypi.org/simple, https://us-python.pkg.dev/colab-wheels/public/simple/\n",
            "Requirement already satisfied: yfinance in /usr/local/lib/python3.9/dist-packages (0.2.13)\n",
            "Requirement already satisfied: lxml>=4.9.1 in /usr/local/lib/python3.9/dist-packages (from yfinance) (4.9.2)\n",
            "Requirement already satisfied: numpy>=1.16.5 in /usr/local/lib/python3.9/dist-packages (from yfinance) (1.22.4)\n",
            "Requirement already satisfied: requests>=2.26 in /usr/local/lib/python3.9/dist-packages (from yfinance) (2.27.1)\n",
            "Requirement already satisfied: pandas>=1.3.0 in /usr/local/lib/python3.9/dist-packages (from yfinance) (1.4.4)\n",
            "Requirement already satisfied: pytz>=2022.5 in /usr/local/lib/python3.9/dist-packages (from yfinance) (2022.7.1)\n",
            "Requirement already satisfied: frozendict>=2.3.4 in /usr/local/lib/python3.9/dist-packages (from yfinance) (2.3.6)\n",
            "Requirement already satisfied: html5lib>=1.1 in /usr/local/lib/python3.9/dist-packages (from yfinance) (1.1)\n",
            "Requirement already satisfied: beautifulsoup4>=4.11.1 in /usr/local/lib/python3.9/dist-packages (from yfinance) (4.11.2)\n",
            "Requirement already satisfied: cryptography>=3.3.2 in /usr/local/lib/python3.9/dist-packages (from yfinance) (39.0.2)\n",
            "Requirement already satisfied: appdirs>=1.4.4 in /usr/local/lib/python3.9/dist-packages (from yfinance) (1.4.4)\n",
            "Requirement already satisfied: multitasking>=0.0.7 in /usr/local/lib/python3.9/dist-packages (from yfinance) (0.0.11)\n",
            "Requirement already satisfied: soupsieve>1.2 in /usr/local/lib/python3.9/dist-packages (from beautifulsoup4>=4.11.1->yfinance) (2.4)\n",
            "Requirement already satisfied: cffi>=1.12 in /usr/local/lib/python3.9/dist-packages (from cryptography>=3.3.2->yfinance) (1.15.1)\n",
            "Requirement already satisfied: six>=1.9 in /usr/local/lib/python3.9/dist-packages (from html5lib>=1.1->yfinance) (1.16.0)\n",
            "Requirement already satisfied: webencodings in /usr/local/lib/python3.9/dist-packages (from html5lib>=1.1->yfinance) (0.5.1)\n",
            "Requirement already satisfied: python-dateutil>=2.8.1 in /usr/local/lib/python3.9/dist-packages (from pandas>=1.3.0->yfinance) (2.8.2)\n",
            "Requirement already satisfied: idna<4,>=2.5 in /usr/local/lib/python3.9/dist-packages (from requests>=2.26->yfinance) (3.4)\n",
            "Requirement already satisfied: charset-normalizer~=2.0.0 in /usr/local/lib/python3.9/dist-packages (from requests>=2.26->yfinance) (2.0.12)\n",
            "Requirement already satisfied: urllib3<1.27,>=1.21.1 in /usr/local/lib/python3.9/dist-packages (from requests>=2.26->yfinance) (1.26.15)\n",
            "Requirement already satisfied: certifi>=2017.4.17 in /usr/local/lib/python3.9/dist-packages (from requests>=2.26->yfinance) (2022.12.7)\n",
            "Requirement already satisfied: pycparser in /usr/local/lib/python3.9/dist-packages (from cffi>=1.12->cryptography>=3.3.2->yfinance) (2.21)\n",
            "Looking in indexes: https://pypi.org/simple, https://us-python.pkg.dev/colab-wheels/public/simple/\n",
            "Requirement already satisfied: datasets in /usr/local/lib/python3.9/dist-packages (2.10.1)\n",
            "Requirement already satisfied: multiprocess in /usr/local/lib/python3.9/dist-packages (from datasets) (0.70.14)\n",
            "Requirement already satisfied: pyyaml>=5.1 in /usr/local/lib/python3.9/dist-packages (from datasets) (6.0)\n",
            "Requirement already satisfied: numpy>=1.17 in /usr/local/lib/python3.9/dist-packages (from datasets) (1.22.4)\n",
            "Requirement already satisfied: xxhash in /usr/local/lib/python3.9/dist-packages (from datasets) (3.2.0)\n",
            "Requirement already satisfied: pyarrow>=6.0.0 in /usr/local/lib/python3.9/dist-packages (from datasets) (9.0.0)\n",
            "Requirement already satisfied: packaging in /usr/local/lib/python3.9/dist-packages (from datasets) (23.0)\n",
            "Requirement already satisfied: pandas in /usr/local/lib/python3.9/dist-packages (from datasets) (1.4.4)\n",
            "Requirement already satisfied: dill<0.3.7,>=0.3.0 in /usr/local/lib/python3.9/dist-packages (from datasets) (0.3.6)\n",
            "Requirement already satisfied: fsspec[http]>=2021.11.1 in /usr/local/lib/python3.9/dist-packages (from datasets) (2023.3.0)\n",
            "Requirement already satisfied: responses<0.19 in /usr/local/lib/python3.9/dist-packages (from datasets) (0.18.0)\n",
            "Requirement already satisfied: requests>=2.19.0 in /usr/local/lib/python3.9/dist-packages (from datasets) (2.27.1)\n",
            "Requirement already satisfied: huggingface-hub<1.0.0,>=0.2.0 in /usr/local/lib/python3.9/dist-packages (from datasets) (0.13.3)\n",
            "Requirement already satisfied: tqdm>=4.62.1 in /usr/local/lib/python3.9/dist-packages (from datasets) (4.65.0)\n",
            "Requirement already satisfied: aiohttp in /usr/local/lib/python3.9/dist-packages (from datasets) (3.8.4)\n",
            "Requirement already satisfied: async-timeout<5.0,>=4.0.0a3 in /usr/local/lib/python3.9/dist-packages (from aiohttp->datasets) (4.0.2)\n",
            "Requirement already satisfied: aiosignal>=1.1.2 in /usr/local/lib/python3.9/dist-packages (from aiohttp->datasets) (1.3.1)\n",
            "Requirement already satisfied: yarl<2.0,>=1.0 in /usr/local/lib/python3.9/dist-packages (from aiohttp->datasets) (1.8.2)\n",
            "Requirement already satisfied: attrs>=17.3.0 in /usr/local/lib/python3.9/dist-packages (from aiohttp->datasets) (22.2.0)\n",
            "Requirement already satisfied: charset-normalizer<4.0,>=2.0 in /usr/local/lib/python3.9/dist-packages (from aiohttp->datasets) (2.0.12)\n",
            "Requirement already satisfied: multidict<7.0,>=4.5 in /usr/local/lib/python3.9/dist-packages (from aiohttp->datasets) (6.0.4)\n",
            "Requirement already satisfied: frozenlist>=1.1.1 in /usr/local/lib/python3.9/dist-packages (from aiohttp->datasets) (1.3.3)\n",
            "Requirement already satisfied: typing-extensions>=3.7.4.3 in /usr/local/lib/python3.9/dist-packages (from huggingface-hub<1.0.0,>=0.2.0->datasets) (4.5.0)\n",
            "Requirement already satisfied: filelock in /usr/local/lib/python3.9/dist-packages (from huggingface-hub<1.0.0,>=0.2.0->datasets) (3.10.2)\n",
            "Requirement already satisfied: urllib3<1.27,>=1.21.1 in /usr/local/lib/python3.9/dist-packages (from requests>=2.19.0->datasets) (1.26.15)\n",
            "Requirement already satisfied: idna<4,>=2.5 in /usr/local/lib/python3.9/dist-packages (from requests>=2.19.0->datasets) (3.4)\n",
            "Requirement already satisfied: certifi>=2017.4.17 in /usr/local/lib/python3.9/dist-packages (from requests>=2.19.0->datasets) (2022.12.7)\n",
            "Requirement already satisfied: python-dateutil>=2.8.1 in /usr/local/lib/python3.9/dist-packages (from pandas->datasets) (2.8.2)\n",
            "Requirement already satisfied: pytz>=2020.1 in /usr/local/lib/python3.9/dist-packages (from pandas->datasets) (2022.7.1)\n",
            "Requirement already satisfied: six>=1.5 in /usr/local/lib/python3.9/dist-packages (from python-dateutil>=2.8.1->pandas->datasets) (1.16.0)\n",
            "Looking in indexes: https://pypi.org/simple, https://us-python.pkg.dev/colab-wheels/public/simple/\n",
            "Requirement already satisfied: transformers in /usr/local/lib/python3.9/dist-packages (4.27.3)\n",
            "Requirement already satisfied: pyyaml>=5.1 in /usr/local/lib/python3.9/dist-packages (from transformers) (6.0)\n",
            "Requirement already satisfied: packaging>=20.0 in /usr/local/lib/python3.9/dist-packages (from transformers) (23.0)\n",
            "Requirement already satisfied: numpy>=1.17 in /usr/local/lib/python3.9/dist-packages (from transformers) (1.22.4)\n",
            "Requirement already satisfied: requests in /usr/local/lib/python3.9/dist-packages (from transformers) (2.27.1)\n",
            "Requirement already satisfied: regex!=2019.12.17 in /usr/local/lib/python3.9/dist-packages (from transformers) (2022.10.31)\n",
            "Requirement already satisfied: filelock in /usr/local/lib/python3.9/dist-packages (from transformers) (3.10.2)\n",
            "Requirement already satisfied: tqdm>=4.27 in /usr/local/lib/python3.9/dist-packages (from transformers) (4.65.0)\n",
            "Requirement already satisfied: tokenizers!=0.11.3,<0.14,>=0.11.1 in /usr/local/lib/python3.9/dist-packages (from transformers) (0.13.2)\n",
            "Requirement already satisfied: huggingface-hub<1.0,>=0.11.0 in /usr/local/lib/python3.9/dist-packages (from transformers) (0.13.3)\n",
            "Requirement already satisfied: typing-extensions>=3.7.4.3 in /usr/local/lib/python3.9/dist-packages (from huggingface-hub<1.0,>=0.11.0->transformers) (4.5.0)\n",
            "Requirement already satisfied: certifi>=2017.4.17 in /usr/local/lib/python3.9/dist-packages (from requests->transformers) (2022.12.7)\n",
            "Requirement already satisfied: urllib3<1.27,>=1.21.1 in /usr/local/lib/python3.9/dist-packages (from requests->transformers) (1.26.15)\n",
            "Requirement already satisfied: idna<4,>=2.5 in /usr/local/lib/python3.9/dist-packages (from requests->transformers) (3.4)\n",
            "Requirement already satisfied: charset-normalizer~=2.0.0 in /usr/local/lib/python3.9/dist-packages (from requests->transformers) (2.0.12)\n",
            "Looking in indexes: https://pypi.org/simple, https://us-python.pkg.dev/colab-wheels/public/simple/\n",
            "Requirement already satisfied: accelerate in /usr/local/lib/python3.9/dist-packages (0.18.0)\n",
            "Requirement already satisfied: numpy>=1.17 in /usr/local/lib/python3.9/dist-packages (from accelerate) (1.22.4)\n",
            "Requirement already satisfied: torch>=1.4.0 in /usr/local/lib/python3.9/dist-packages (from accelerate) (1.13.1+cu116)\n",
            "Requirement already satisfied: packaging>=20.0 in /usr/local/lib/python3.9/dist-packages (from accelerate) (23.0)\n",
            "Requirement already satisfied: psutil in /usr/local/lib/python3.9/dist-packages (from accelerate) (5.9.4)\n",
            "Requirement already satisfied: pyyaml in /usr/local/lib/python3.9/dist-packages (from accelerate) (6.0)\n",
            "Requirement already satisfied: typing-extensions in /usr/local/lib/python3.9/dist-packages (from torch>=1.4.0->accelerate) (4.5.0)\n",
            "Looking in indexes: https://pypi.org/simple, https://us-python.pkg.dev/colab-wheels/public/simple/\n",
            "Requirement already satisfied: torch in /usr/local/lib/python3.9/dist-packages (1.13.1+cu116)\n",
            "Requirement already satisfied: typing-extensions in /usr/local/lib/python3.9/dist-packages (from torch) (4.5.0)\n",
            "Looking in indexes: https://pypi.org/simple, https://us-python.pkg.dev/colab-wheels/public/simple/\n",
            "Requirement already satisfied: evaluate in /usr/local/lib/python3.9/dist-packages (0.4.0)\n",
            "Requirement already satisfied: requests>=2.19.0 in /usr/local/lib/python3.9/dist-packages (from evaluate) (2.27.1)\n",
            "Requirement already satisfied: dill in /usr/local/lib/python3.9/dist-packages (from evaluate) (0.3.6)\n",
            "Requirement already satisfied: multiprocess in /usr/local/lib/python3.9/dist-packages (from evaluate) (0.70.14)\n",
            "Requirement already satisfied: fsspec[http]>=2021.05.0 in /usr/local/lib/python3.9/dist-packages (from evaluate) (2023.3.0)\n",
            "Requirement already satisfied: datasets>=2.0.0 in /usr/local/lib/python3.9/dist-packages (from evaluate) (2.10.1)\n",
            "Requirement already satisfied: numpy>=1.17 in /usr/local/lib/python3.9/dist-packages (from evaluate) (1.22.4)\n",
            "Requirement already satisfied: responses<0.19 in /usr/local/lib/python3.9/dist-packages (from evaluate) (0.18.0)\n",
            "Requirement already satisfied: tqdm>=4.62.1 in /usr/local/lib/python3.9/dist-packages (from evaluate) (4.65.0)\n",
            "Requirement already satisfied: xxhash in /usr/local/lib/python3.9/dist-packages (from evaluate) (3.2.0)\n",
            "Requirement already satisfied: pandas in /usr/local/lib/python3.9/dist-packages (from evaluate) (1.4.4)\n",
            "Requirement already satisfied: huggingface-hub>=0.7.0 in /usr/local/lib/python3.9/dist-packages (from evaluate) (0.13.3)\n",
            "Requirement already satisfied: packaging in /usr/local/lib/python3.9/dist-packages (from evaluate) (23.0)\n",
            "Requirement already satisfied: pyyaml>=5.1 in /usr/local/lib/python3.9/dist-packages (from datasets>=2.0.0->evaluate) (6.0)\n",
            "Requirement already satisfied: aiohttp in /usr/local/lib/python3.9/dist-packages (from datasets>=2.0.0->evaluate) (3.8.4)\n",
            "Requirement already satisfied: pyarrow>=6.0.0 in /usr/local/lib/python3.9/dist-packages (from datasets>=2.0.0->evaluate) (9.0.0)\n",
            "Requirement already satisfied: filelock in /usr/local/lib/python3.9/dist-packages (from huggingface-hub>=0.7.0->evaluate) (3.10.2)\n",
            "Requirement already satisfied: typing-extensions>=3.7.4.3 in /usr/local/lib/python3.9/dist-packages (from huggingface-hub>=0.7.0->evaluate) (4.5.0)\n",
            "Requirement already satisfied: certifi>=2017.4.17 in /usr/local/lib/python3.9/dist-packages (from requests>=2.19.0->evaluate) (2022.12.7)\n",
            "Requirement already satisfied: urllib3<1.27,>=1.21.1 in /usr/local/lib/python3.9/dist-packages (from requests>=2.19.0->evaluate) (1.26.15)\n",
            "Requirement already satisfied: charset-normalizer~=2.0.0 in /usr/local/lib/python3.9/dist-packages (from requests>=2.19.0->evaluate) (2.0.12)\n",
            "Requirement already satisfied: idna<4,>=2.5 in /usr/local/lib/python3.9/dist-packages (from requests>=2.19.0->evaluate) (3.4)\n",
            "Requirement already satisfied: pytz>=2020.1 in /usr/local/lib/python3.9/dist-packages (from pandas->evaluate) (2022.7.1)\n",
            "Requirement already satisfied: python-dateutil>=2.8.1 in /usr/local/lib/python3.9/dist-packages (from pandas->evaluate) (2.8.2)\n",
            "Requirement already satisfied: aiosignal>=1.1.2 in /usr/local/lib/python3.9/dist-packages (from aiohttp->datasets>=2.0.0->evaluate) (1.3.1)\n",
            "Requirement already satisfied: multidict<7.0,>=4.5 in /usr/local/lib/python3.9/dist-packages (from aiohttp->datasets>=2.0.0->evaluate) (6.0.4)\n",
            "Requirement already satisfied: async-timeout<5.0,>=4.0.0a3 in /usr/local/lib/python3.9/dist-packages (from aiohttp->datasets>=2.0.0->evaluate) (4.0.2)\n",
            "Requirement already satisfied: yarl<2.0,>=1.0 in /usr/local/lib/python3.9/dist-packages (from aiohttp->datasets>=2.0.0->evaluate) (1.8.2)\n",
            "Requirement already satisfied: frozenlist>=1.1.1 in /usr/local/lib/python3.9/dist-packages (from aiohttp->datasets>=2.0.0->evaluate) (1.3.3)\n",
            "Requirement already satisfied: attrs>=17.3.0 in /usr/local/lib/python3.9/dist-packages (from aiohttp->datasets>=2.0.0->evaluate) (22.2.0)\n",
            "Requirement already satisfied: six>=1.5 in /usr/local/lib/python3.9/dist-packages (from python-dateutil>=2.8.1->pandas->evaluate) (1.16.0)\n",
            "Looking in indexes: https://pypi.org/simple, https://us-python.pkg.dev/colab-wheels/public/simple/\n",
            "Requirement already satisfied: torchviz in /usr/local/lib/python3.9/dist-packages (0.0.2)\n",
            "Requirement already satisfied: torch in /usr/local/lib/python3.9/dist-packages (from torchviz) (1.13.1+cu116)\n",
            "Requirement already satisfied: graphviz in /usr/local/lib/python3.9/dist-packages (from torchviz) (0.8.4)\n",
            "Requirement already satisfied: typing-extensions in /usr/local/lib/python3.9/dist-packages (from torch->torchviz) (4.5.0)\n",
            "Looking in indexes: https://pypi.org/simple, https://us-python.pkg.dev/colab-wheels/public/simple/\n",
            "Requirement already satisfied: jupyter-dash in /usr/local/lib/python3.9/dist-packages (0.4.2)\n",
            "Requirement already satisfied: nest-asyncio in /usr/local/lib/python3.9/dist-packages (from jupyter-dash) (1.5.6)\n",
            "Requirement already satisfied: ipython in /usr/local/lib/python3.9/dist-packages (from jupyter-dash) (7.9.0)\n",
            "Requirement already satisfied: ipykernel in /usr/local/lib/python3.9/dist-packages (from jupyter-dash) (5.3.4)\n",
            "Requirement already satisfied: flask in /usr/local/lib/python3.9/dist-packages (from jupyter-dash) (2.2.3)\n",
            "Requirement already satisfied: retrying in /usr/local/lib/python3.9/dist-packages (from jupyter-dash) (1.3.4)\n",
            "Requirement already satisfied: ansi2html in /usr/local/lib/python3.9/dist-packages (from jupyter-dash) (1.8.0)\n",
            "Requirement already satisfied: requests in /usr/local/lib/python3.9/dist-packages (from jupyter-dash) (2.27.1)\n",
            "Requirement already satisfied: dash in /usr/local/lib/python3.9/dist-packages (from jupyter-dash) (2.9.1)\n",
            "Requirement already satisfied: dash-table==5.0.0 in /usr/local/lib/python3.9/dist-packages (from dash->jupyter-dash) (5.0.0)\n",
            "Requirement already satisfied: dash-core-components==2.0.0 in /usr/local/lib/python3.9/dist-packages (from dash->jupyter-dash) (2.0.0)\n",
            "Requirement already satisfied: dash-html-components==2.0.0 in /usr/local/lib/python3.9/dist-packages (from dash->jupyter-dash) (2.0.0)\n",
            "Requirement already satisfied: plotly>=5.0.0 in /usr/local/lib/python3.9/dist-packages (from dash->jupyter-dash) (5.13.1)\n",
            "Requirement already satisfied: Jinja2>=3.0 in /usr/local/lib/python3.9/dist-packages (from flask->jupyter-dash) (3.1.2)\n",
            "Requirement already satisfied: importlib-metadata>=3.6.0 in /usr/local/lib/python3.9/dist-packages (from flask->jupyter-dash) (6.1.0)\n",
            "Requirement already satisfied: Werkzeug>=2.2.2 in /usr/local/lib/python3.9/dist-packages (from flask->jupyter-dash) (2.2.3)\n",
            "Requirement already satisfied: click>=8.0 in /usr/local/lib/python3.9/dist-packages (from flask->jupyter-dash) (8.1.3)\n",
            "Requirement already satisfied: itsdangerous>=2.0 in /usr/local/lib/python3.9/dist-packages (from flask->jupyter-dash) (2.1.2)\n",
            "Requirement already satisfied: traitlets>=4.1.0 in /usr/local/lib/python3.9/dist-packages (from ipykernel->jupyter-dash) (5.7.1)\n",
            "Requirement already satisfied: tornado>=4.2 in /usr/local/lib/python3.9/dist-packages (from ipykernel->jupyter-dash) (6.2)\n",
            "Requirement already satisfied: jupyter-client in /usr/local/lib/python3.9/dist-packages (from ipykernel->jupyter-dash) (6.1.12)\n",
            "Requirement already satisfied: pygments in /usr/local/lib/python3.9/dist-packages (from ipython->jupyter-dash) (2.14.0)\n",
            "Requirement already satisfied: jedi>=0.10 in /usr/local/lib/python3.9/dist-packages (from ipython->jupyter-dash) (0.18.2)\n",
            "Requirement already satisfied: pexpect in /usr/local/lib/python3.9/dist-packages (from ipython->jupyter-dash) (4.8.0)\n",
            "Requirement already satisfied: setuptools>=18.5 in /usr/local/lib/python3.9/dist-packages (from ipython->jupyter-dash) (67.6.0)\n",
            "Requirement already satisfied: backcall in /usr/local/lib/python3.9/dist-packages (from ipython->jupyter-dash) (0.2.0)\n",
            "Requirement already satisfied: prompt-toolkit<2.1.0,>=2.0.0 in /usr/local/lib/python3.9/dist-packages (from ipython->jupyter-dash) (2.0.10)\n",
            "Requirement already satisfied: decorator in /usr/local/lib/python3.9/dist-packages (from ipython->jupyter-dash) (4.4.2)\n",
            "Requirement already satisfied: pickleshare in /usr/local/lib/python3.9/dist-packages (from ipython->jupyter-dash) (0.7.5)\n",
            "Requirement already satisfied: urllib3<1.27,>=1.21.1 in /usr/local/lib/python3.9/dist-packages (from requests->jupyter-dash) (1.26.15)\n",
            "Requirement already satisfied: certifi>=2017.4.17 in /usr/local/lib/python3.9/dist-packages (from requests->jupyter-dash) (2022.12.7)\n",
            "Requirement already satisfied: charset-normalizer~=2.0.0 in /usr/local/lib/python3.9/dist-packages (from requests->jupyter-dash) (2.0.12)\n",
            "Requirement already satisfied: idna<4,>=2.5 in /usr/local/lib/python3.9/dist-packages (from requests->jupyter-dash) (3.4)\n",
            "Requirement already satisfied: six>=1.7.0 in /usr/local/lib/python3.9/dist-packages (from retrying->jupyter-dash) (1.16.0)\n",
            "Requirement already satisfied: zipp>=0.5 in /usr/local/lib/python3.9/dist-packages (from importlib-metadata>=3.6.0->flask->jupyter-dash) (3.15.0)\n",
            "Requirement already satisfied: parso<0.9.0,>=0.8.0 in /usr/local/lib/python3.9/dist-packages (from jedi>=0.10->ipython->jupyter-dash) (0.8.3)\n",
            "Requirement already satisfied: MarkupSafe>=2.0 in /usr/local/lib/python3.9/dist-packages (from Jinja2>=3.0->flask->jupyter-dash) (2.1.2)\n",
            "Requirement already satisfied: tenacity>=6.2.0 in /usr/local/lib/python3.9/dist-packages (from plotly>=5.0.0->dash->jupyter-dash) (8.2.2)\n",
            "Requirement already satisfied: wcwidth in /usr/local/lib/python3.9/dist-packages (from prompt-toolkit<2.1.0,>=2.0.0->ipython->jupyter-dash) (0.2.6)\n",
            "Requirement already satisfied: pyzmq>=13 in /usr/local/lib/python3.9/dist-packages (from jupyter-client->ipykernel->jupyter-dash) (23.2.1)\n",
            "Requirement already satisfied: jupyter-core>=4.6.0 in /usr/local/lib/python3.9/dist-packages (from jupyter-client->ipykernel->jupyter-dash) (5.3.0)\n",
            "Requirement already satisfied: python-dateutil>=2.1 in /usr/local/lib/python3.9/dist-packages (from jupyter-client->ipykernel->jupyter-dash) (2.8.2)\n",
            "Requirement already satisfied: ptyprocess>=0.5 in /usr/local/lib/python3.9/dist-packages (from pexpect->ipython->jupyter-dash) (0.7.0)\n",
            "Requirement already satisfied: platformdirs>=2.5 in /usr/local/lib/python3.9/dist-packages (from jupyter-core>=4.6.0->jupyter-client->ipykernel->jupyter-dash) (3.1.1)\n",
            "Looking in indexes: https://pypi.org/simple, https://us-python.pkg.dev/colab-wheels/public/simple/\n",
            "Requirement already satisfied: sns in /usr/local/lib/python3.9/dist-packages (0.1)\n"
          ]
        }
      ],
      "source": [
        "# Installation\n",
        "!pip install --upgrade mxnet==1.6.0\n",
        "!pip install gluonts\n",
        "!pip install yfinance\n",
        "!pip install datasets\n",
        "!pip install transformers\n",
        "!pip install accelerate\n",
        "!pip install torch\n",
        "!pip install evaluate\n",
        "!pip install torchviz\n",
        "!pip install jupyter-dash\n",
        "!pip install sns"
      ]
    },
    {
      "cell_type": "code",
      "execution_count": 67,
      "metadata": {
        "id": "PmE5oMq40Wgp"
      },
      "outputs": [],
      "source": [
        "\n",
        "## Hyper parameters\n",
        "buy_trigger = 3             # times standard deviation\n",
        "sell_trigger = 1            # times the avg cost of the security to grow before we sell\n",
        "security_age = 15           # number of days to hold the security before we cut the losses\n",
        "lockin_gains_factor = 1000  # times the orignal amount to grow before we lockin the gains.\n",
        "mean_type = \"+ve\"           # only consider stocks with +ve mean of ND. These stocks have been growing over the period of time\n",
        "max_stocks_to_buy = 5       # number of stocks to buy at buy trigger. We can change this value to be more adaptive based on market cap of the security and other parameters.\n",
        "backtest_iterations = 10    # number of backtests to run\n",
        "\n",
        "\n",
        "original_balance = 10000    # seed money to start investing\n",
        "current_account = original_balance\n",
        "portfolio = {}"
      ]
    },
    {
      "cell_type": "code",
      "execution_count": 68,
      "metadata": {
        "id": "ZtB77RObE0jz"
      },
      "outputs": [],
      "source": [
        "import yfinance as yahooFinance\n",
        "import tensorflow as tf\n",
        "import pandas as pd\n",
        "import sklearn\n",
        "import matplotlib.pyplot as plt\n",
        "import plotly.graph_objects as go\n",
        "import plotly.express as px\n",
        "import seaborn as sns\n",
        "import numpy as np\n",
        "\n",
        "stocks1 = [\"AAPL\", 'MSFT', 'GOOG', 'GOOGL', 'AMZN', 'UNH', 'XOM', 'JNJ', 'V', 'JPM', 'NVDA']\n",
        "stocks = ['AAPL', 'MSFT', 'GOOG', 'GOOGL', 'AMZN', 'UNH', 'XOM', 'JNJ', 'V', 'JPM', 'NVDA',\n",
        "          'WMT', 'TSLA', 'PG', 'META', 'MA', 'CVX', 'LLY', 'HD', 'ABBV', 'MRK', 'BAC', 'KO', \n",
        "          'PFE', 'PEP', 'AVGO', 'ORCL', 'TMO', 'COST', 'CSCO', 'ABT', 'MCD', 'NKE', 'DHR', \n",
        "          'TMUS', 'ACN', 'DIS', 'VZ', 'NEE', 'CMCSA', 'WFC', 'TXN', 'LIN', 'PM', 'UPS', 'ADBE', \n",
        "          'BMY', 'SCHW', 'MS', 'CRM', 'COP', 'RTX', 'AMGN', 'NFLX', 'HON', 'T', 'UNP', 'QCOM', \n",
        "          'IBM', 'DE', 'CAT', 'LOW', 'BA', 'SBUX', 'INTC', 'SPGI', 'LMT', 'GS', 'CVS', 'BLK', \n",
        "          'AXP', 'ELV', 'AMD', 'GILD', 'INTU', 'PLD', 'MDT', 'AMT', 'ADP', 'SYK', 'ISRG', \n",
        "          'TJX', 'EL', 'C', 'CB', 'CI', 'MDLZ', 'AMAT', 'PYPL', 'ADI', 'BKNG', 'MMC', 'MO', 'GE', \n",
        "          'DUK', 'SLB', 'SO', 'PGR', 'NOW', 'NOC', 'VRTX', 'EOG', 'REGN', 'ZTS', 'TGT', 'MRNA', 'BDX', \n",
        "          'MMM', 'HCA', 'USB', 'ITW', 'APD', 'CSX', 'GD', 'PNC', 'BSX', 'CL', 'WM', 'EQIX', 'FISV', 'FCX', \n",
        "          'CME', 'ETN', 'CCI', 'AON', 'SHW', 'LRCX', 'MU', 'TFC', 'HUM', 'ATVI', 'ICE', 'KLAC', 'NSC', \n",
        "          'CHTR', 'OXY', 'EMR', 'MET', 'PXD', 'MPC', 'MCO', 'MCK', 'DG', 'MNST', 'KHC', 'ORLY', \n",
        "          'D', 'VLO', 'SNPS', 'SRE', 'F', 'KDP', 'AEP', 'GIS', 'PSA', 'MAR', 'PSX', 'ROP', 'FDX', 'EW', \n",
        "          'ADM', 'APH', 'AIG', 'JCI', 'HSY', 'A', 'KMB', 'AZO', 'CTAS', 'CDNS', 'TRV', 'AFL', 'HES', 'CTVA', \n",
        "          'MSI', 'EXC', 'ECL', 'CNC', 'NXPI', 'DXCM', 'PAYX', 'NEM', 'KMI', 'ADSK', 'TT', 'MCHP', 'DVN', \n",
        "          'ROST', 'LVS', 'FIS', 'AJG', 'STZ', 'BIIB', 'SYY', 'CMG', 'O', 'RSG', 'IQV', 'PH', 'XEL', 'DOW', \n",
        "          'SPG', 'WMB', 'TEL', 'MSCI', 'IDXX', 'BK', 'NUE', 'LHX', 'FTNT', 'COF', 'ALL', 'HAL', 'PRU', 'CARR', \n",
        "          'DD', 'TDG', 'YUM', 'ANET', 'HLT', 'PCAR', 'CMI', 'ED', 'ABC', 'EA', 'AMP', 'OTIS', 'WELL', 'MTD', \n",
        "          'ODFL', 'SBAC', 'KR', 'AME', 'DLTR', 'VICI', 'DHI', 'ROK', 'WBA', 'KEYS', 'PEG', 'PCG', 'CSGP', \n",
        "          'CTSH', 'ENPH', 'RMD', 'OKE', 'WEC', 'BKR', 'NDAQ', 'WBD', 'ILMN', 'PPG', 'GLW', 'STT', 'LYB', \n",
        "          'ES', 'IFF', 'DLR', 'AWK', 'VRSK', 'DFS', 'HPQ', 'GWW', 'GPN', 'WTW', 'ON', 'FAST', 'LEN', 'CEG', \n",
        "          'APTV', 'TROW', 'URI', 'IT', 'ALB', 'CBRE', 'ZBH', 'EIX', 'MTB', 'CDW', 'ULTA', 'EFX', 'HRL', 'FANG', \n",
        "          'TSCO', 'EBAY', 'DAL', 'FE', 'VMC', 'HIG', 'ARE', 'K', 'RJF', 'GPC', 'TSN', 'FITB', 'WY', 'FTV', \n",
        "          'ACGL', 'DTE', 'BAX', 'AEE', 'IR', 'AVB', 'FRC', 'MKC', 'VRSN', 'PPL', 'EQR', 'ETR', 'HPE', 'LH', \n",
        "          'ANSS', 'LUV', 'PFG', 'MLM', 'HBAN', 'XYL', 'RF', 'CAH', 'WAT', 'CFG', 'STE', 'PWR', 'CHD', 'HOLX', \n",
        "          'CTRA', 'NTRS', 'VTR', 'EXR', 'DOV', 'CAG', 'CNP', 'WRB', 'TDY', 'GRMN', 'CMS', 'EPAM', 'STLD', 'BBY', \n",
        "          'WST', 'WAB', 'DRI', 'FSLR', 'INVH', 'MPWR', 'AES', 'JBHT', 'ALGN', 'AMCR', 'ROL', 'PAYC', 'MAA', 'IEX', \n",
        "          'INCY', 'TTWO', 'BALL', 'OMC', 'CLX', 'DGX', 'CINF', 'EXPD', 'MRO', 'MOH', 'KEY', 'COO', 'BRO', 'TRGP', \n",
        "          'SEDG', 'FOX', 'FOXA', 'PKI', 'SJM', 'HWM', 'CPB', 'LYV', 'BR', 'CF', 'FMC', 'J', 'ATO', 'ETSY', 'FDS', \n",
        "          'SWKS', 'UAL', 'ZBRA', 'NVR', 'AVY', 'MOS', 'PTC', 'RCL', 'LKQ', 'MGM', 'SYF', 'TXT', 'TER', \n",
        "          'EVRG', 'CPRT', 'BEN', 'IRM', 'VTRS', 'EXPE', 'FLT', 'LW', 'GEN', 'PEAK', 'L', 'KIM', 'APA', 'IPG', \n",
        "          'ESS', 'NTAP', 'RE', 'NDSN', 'LNT', 'AKAM', 'LDOS', 'IP', 'TYL', 'TRMB', 'SNA', 'UDR', 'PARA', 'JKHY', \n",
        "          'CBOE', 'CE', 'BIO', 'POOL', 'MTCH', 'EQT', 'SWK', 'PKG', 'WDC', 'TFX', 'MKTX', 'CPT', 'DPZ', 'CRL', 'GL', \n",
        "          'STX', 'HST', 'VFC', 'MAS', 'NWS', 'NWSA', 'NI', 'PHM', 'CHRW', 'WYNN', 'HSIC', 'CCL', 'EMN', 'KMX', 'REG', \n",
        "          'BXP', 'UHS', 'BBWI', 'JNPR', 'TPR', 'BWA', 'AAL', 'ALLE', 'QRVO', 'CZR', 'CDAY', 'WRK', 'AOS', 'AAP', 'HII', \n",
        "          'HAS', 'IVZ', 'CMA', 'FFIV', 'CTLT', 'PNW', 'WHR', 'FRT', 'RHI', 'PNR', 'DISH', 'SEE', 'RL', 'ZION', 'OGN', \n",
        "          'NRG', 'XRAY', 'MHK', 'DVA', 'GNRC', 'AIZ', 'DXC', 'NWL', 'ALK', 'NCLH', 'LUMN', 'LNC', 'VNO', 'TECH', \n",
        "          'TAP',] # '^IXIC', '^GSPC', '^DJI']\n",
        "\n",
        "stocks_ts = pd.DataFrame()\n",
        "stocks_spread = pd.DataFrame()\n",
        "\n",
        "for stock in stocks:\n",
        "    data = yahooFinance.Ticker(stock).history(period=\"3y\")\n",
        "    data.drop(data.tail(1).index,inplace=True)\n",
        "    d = data.copy()[['Open', 'Close']]\n",
        "    stocks_ts[stock+\"_Open\"] = d['Open']\n",
        "    stocks_ts[stock+\"_Close\"] = d['Close']\n",
        "    stocks_spread[stock+\"_Diff\"] = d['Close'] - d['Open']\n",
        "\n",
        "    stocks_ts = stocks_ts.copy()\n",
        "    stocks_spread = stocks_spread.copy()\n",
        "    #latest[stock+\"_Diff\"] = data.iloc[-1]['Close'] - data.iloc[-1]['Open']\n",
        "    \"\"\"\n",
        "    fig = go.Figure(data=[go.Candlestick(x=d.index,\n",
        "                open=d['Open'],\n",
        "                high=d['Open'],\n",
        "                low=d['Close'],\n",
        "                close=d['Close'])])\n",
        "    fig.update_layout(\n",
        "      title=stock,\n",
        "      yaxis_title=stock +' Stock',\n",
        "      shapes = [dict(\n",
        "          x0='2022-12-09', x1='2022-12-09', y0=0, y1=1, xref='x', yref='paper',\n",
        "          line_width=2)],\n",
        "      annotations=[dict(\n",
        "          x='2022-12-09', y=0.05, xref='x', yref='paper',\n",
        "          showarrow=False, xanchor='left', text='Increase Period Begins')]\n",
        "    )\n",
        "\n",
        "    fig.show()\n",
        "\n",
        "    stocks_spread['Date'] = stocks_spread.index\n",
        "    fig = px.line(stocks_spread, x=\"Date\", y=stock+\"_Diff\", title=stock + \" Price change\", markers=True) \n",
        "    fig.show()\n",
        "\n",
        "    x = pd.Series(stocks_spread[stock+\"_Diff\"])\n",
        "    ax = x.plot.kde(figsize=(30,8))\n",
        "    #sns.set(rc={'figure.figsize':(25.7,8.27)})\n",
        "    #sns.lineplot(x=\"Date\",y=stock+\"_Diff\", data=stocks_spread, markers=True, err_style=\"bars\")\n",
        "    #sns.despine();\n",
        "    \"\"\""
      ]
    },
    {
      "cell_type": "code",
      "execution_count": 69,
      "metadata": {
        "id": "KiCTrDH-A4XJ",
        "colab": {
          "base_uri": "https://localhost:8080/",
          "height": 542
        },
        "outputId": "fa7c6fb6-677c-4bf9-c478-756b7fc6b3f8"
      },
      "outputs": [
        {
          "output_type": "display_data",
          "data": {
            "text/html": [
              "<html>\n",
              "<head><meta charset=\"utf-8\" /></head>\n",
              "<body>\n",
              "    <div>            <script src=\"https://cdnjs.cloudflare.com/ajax/libs/mathjax/2.7.5/MathJax.js?config=TeX-AMS-MML_SVG\"></script><script type=\"text/javascript\">if (window.MathJax && window.MathJax.Hub && window.MathJax.Hub.Config) {window.MathJax.Hub.Config({SVG: {font: \"STIX-Web\"}});}</script>                <script type=\"text/javascript\">window.PlotlyConfig = {MathJaxConfig: 'local'};</script>\n",
              "        <script src=\"https://cdn.plot.ly/plotly-2.18.2.min.js\"></script>                <div id=\"ad63b55f-60a1-4d45-b6ec-bbf5e46a0933\" class=\"plotly-graph-div\" style=\"height:525px; width:100%;\"></div>            <script type=\"text/javascript\">                                    window.PLOTLYENV=window.PLOTLYENV || {};                                    if (document.getElementById(\"ad63b55f-60a1-4d45-b6ec-bbf5e46a0933\")) {                    Plotly.newPlot(                        \"ad63b55f-60a1-4d45-b6ec-bbf5e46a0933\",                        [{\"hovertemplate\":\"variable=std<br>index=%{x}<br>value=%{y}<extra></extra>\",\"legendgroup\":\"std\",\"line\":{\"color\":\"#636efa\",\"dash\":\"solid\"},\"marker\":{\"symbol\":\"circle\"},\"mode\":\"markers+lines\",\"name\":\"std\",\"orientation\":\"v\",\"showlegend\":true,\"x\":[\"AAPL_Diff\",\"MSFT_Diff\",\"GOOG_Diff\",\"GOOGL_Diff\",\"AMZN_Diff\",\"UNH_Diff\",\"XOM_Diff\",\"JNJ_Diff\",\"V_Diff\",\"JPM_Diff\",\"NVDA_Diff\",\"WMT_Diff\",\"TSLA_Diff\",\"PG_Diff\",\"META_Diff\",\"MA_Diff\",\"CVX_Diff\",\"LLY_Diff\",\"HD_Diff\",\"ABBV_Diff\",\"MRK_Diff\",\"BAC_Diff\",\"KO_Diff\",\"PFE_Diff\",\"PEP_Diff\",\"AVGO_Diff\",\"ORCL_Diff\",\"TMO_Diff\",\"COST_Diff\",\"CSCO_Diff\",\"ABT_Diff\",\"MCD_Diff\",\"NKE_Diff\",\"DHR_Diff\",\"TMUS_Diff\",\"ACN_Diff\",\"DIS_Diff\",\"VZ_Diff\",\"NEE_Diff\",\"CMCSA_Diff\",\"WFC_Diff\",\"TXN_Diff\",\"LIN_Diff\",\"PM_Diff\",\"UPS_Diff\",\"ADBE_Diff\",\"BMY_Diff\",\"SCHW_Diff\",\"MS_Diff\",\"CRM_Diff\",\"COP_Diff\",\"RTX_Diff\",\"AMGN_Diff\",\"NFLX_Diff\",\"HON_Diff\",\"T_Diff\",\"UNP_Diff\",\"QCOM_Diff\",\"IBM_Diff\",\"DE_Diff\",\"CAT_Diff\",\"LOW_Diff\",\"BA_Diff\",\"SBUX_Diff\",\"INTC_Diff\",\"SPGI_Diff\",\"LMT_Diff\",\"GS_Diff\",\"CVS_Diff\",\"BLK_Diff\",\"AXP_Diff\",\"ELV_Diff\",\"AMD_Diff\",\"GILD_Diff\",\"INTU_Diff\",\"PLD_Diff\",\"MDT_Diff\",\"AMT_Diff\",\"ADP_Diff\",\"SYK_Diff\",\"ISRG_Diff\",\"TJX_Diff\",\"EL_Diff\",\"C_Diff\",\"CB_Diff\",\"CI_Diff\",\"MDLZ_Diff\",\"AMAT_Diff\",\"PYPL_Diff\",\"ADI_Diff\",\"BKNG_Diff\",\"MMC_Diff\",\"MO_Diff\",\"GE_Diff\",\"DUK_Diff\",\"SLB_Diff\",\"SO_Diff\",\"PGR_Diff\",\"NOW_Diff\",\"NOC_Diff\",\"VRTX_Diff\",\"EOG_Diff\",\"REGN_Diff\",\"ZTS_Diff\",\"TGT_Diff\",\"MRNA_Diff\",\"BDX_Diff\",\"MMM_Diff\",\"HCA_Diff\",\"USB_Diff\",\"ITW_Diff\",\"APD_Diff\",\"CSX_Diff\",\"GD_Diff\",\"PNC_Diff\",\"BSX_Diff\",\"CL_Diff\",\"WM_Diff\",\"EQIX_Diff\",\"FISV_Diff\",\"FCX_Diff\",\"CME_Diff\",\"ETN_Diff\",\"CCI_Diff\",\"AON_Diff\",\"SHW_Diff\",\"LRCX_Diff\",\"MU_Diff\",\"TFC_Diff\",\"HUM_Diff\",\"ATVI_Diff\",\"ICE_Diff\",\"KLAC_Diff\",\"NSC_Diff\",\"CHTR_Diff\",\"OXY_Diff\",\"EMR_Diff\",\"MET_Diff\",\"PXD_Diff\",\"MPC_Diff\",\"MCO_Diff\",\"MCK_Diff\",\"DG_Diff\",\"MNST_Diff\",\"KHC_Diff\",\"ORLY_Diff\",\"D_Diff\",\"VLO_Diff\",\"SNPS_Diff\",\"SRE_Diff\",\"F_Diff\",\"KDP_Diff\",\"AEP_Diff\",\"GIS_Diff\",\"PSA_Diff\",\"MAR_Diff\",\"PSX_Diff\",\"ROP_Diff\",\"FDX_Diff\",\"EW_Diff\",\"ADM_Diff\",\"APH_Diff\",\"AIG_Diff\",\"JCI_Diff\",\"HSY_Diff\",\"A_Diff\",\"KMB_Diff\",\"AZO_Diff\",\"CTAS_Diff\",\"CDNS_Diff\",\"TRV_Diff\",\"AFL_Diff\",\"HES_Diff\",\"CTVA_Diff\",\"MSI_Diff\",\"EXC_Diff\",\"ECL_Diff\",\"CNC_Diff\",\"NXPI_Diff\",\"DXCM_Diff\",\"PAYX_Diff\",\"NEM_Diff\",\"KMI_Diff\",\"ADSK_Diff\",\"TT_Diff\",\"MCHP_Diff\",\"DVN_Diff\",\"ROST_Diff\",\"LVS_Diff\",\"FIS_Diff\",\"AJG_Diff\",\"STZ_Diff\",\"BIIB_Diff\",\"SYY_Diff\",\"CMG_Diff\",\"O_Diff\",\"RSG_Diff\",\"IQV_Diff\",\"PH_Diff\",\"XEL_Diff\",\"DOW_Diff\",\"SPG_Diff\",\"WMB_Diff\",\"TEL_Diff\",\"MSCI_Diff\",\"IDXX_Diff\",\"BK_Diff\",\"NUE_Diff\",\"LHX_Diff\",\"FTNT_Diff\",\"COF_Diff\",\"ALL_Diff\",\"HAL_Diff\",\"PRU_Diff\",\"CARR_Diff\",\"DD_Diff\",\"TDG_Diff\",\"YUM_Diff\",\"ANET_Diff\",\"HLT_Diff\",\"PCAR_Diff\",\"CMI_Diff\",\"ED_Diff\",\"ABC_Diff\",\"EA_Diff\",\"AMP_Diff\",\"OTIS_Diff\",\"WELL_Diff\",\"MTD_Diff\",\"ODFL_Diff\",\"SBAC_Diff\",\"KR_Diff\",\"AME_Diff\",\"DLTR_Diff\",\"VICI_Diff\",\"DHI_Diff\",\"ROK_Diff\",\"WBA_Diff\",\"KEYS_Diff\",\"PEG_Diff\",\"PCG_Diff\",\"CSGP_Diff\",\"CTSH_Diff\",\"ENPH_Diff\",\"RMD_Diff\",\"OKE_Diff\",\"WEC_Diff\",\"BKR_Diff\",\"NDAQ_Diff\",\"WBD_Diff\",\"ILMN_Diff\",\"PPG_Diff\",\"GLW_Diff\",\"STT_Diff\",\"LYB_Diff\",\"ES_Diff\",\"IFF_Diff\",\"DLR_Diff\",\"AWK_Diff\",\"VRSK_Diff\",\"DFS_Diff\",\"HPQ_Diff\",\"GWW_Diff\",\"GPN_Diff\",\"WTW_Diff\",\"ON_Diff\",\"FAST_Diff\",\"LEN_Diff\",\"CEG_Diff\",\"APTV_Diff\",\"TROW_Diff\",\"URI_Diff\",\"IT_Diff\",\"ALB_Diff\",\"CBRE_Diff\",\"ZBH_Diff\",\"EIX_Diff\",\"MTB_Diff\",\"CDW_Diff\",\"ULTA_Diff\",\"EFX_Diff\",\"HRL_Diff\",\"FANG_Diff\",\"TSCO_Diff\",\"EBAY_Diff\",\"DAL_Diff\",\"FE_Diff\",\"VMC_Diff\",\"HIG_Diff\",\"ARE_Diff\",\"K_Diff\",\"RJF_Diff\",\"GPC_Diff\",\"TSN_Diff\",\"FITB_Diff\",\"WY_Diff\",\"FTV_Diff\",\"ACGL_Diff\",\"DTE_Diff\",\"BAX_Diff\",\"AEE_Diff\",\"IR_Diff\",\"AVB_Diff\",\"FRC_Diff\",\"MKC_Diff\",\"VRSN_Diff\",\"PPL_Diff\",\"EQR_Diff\",\"ETR_Diff\",\"HPE_Diff\",\"LH_Diff\",\"ANSS_Diff\",\"LUV_Diff\",\"PFG_Diff\",\"MLM_Diff\",\"HBAN_Diff\",\"XYL_Diff\",\"RF_Diff\",\"CAH_Diff\",\"WAT_Diff\",\"CFG_Diff\",\"STE_Diff\",\"PWR_Diff\",\"CHD_Diff\",\"HOLX_Diff\",\"CTRA_Diff\",\"NTRS_Diff\",\"VTR_Diff\",\"EXR_Diff\",\"DOV_Diff\",\"CAG_Diff\",\"CNP_Diff\",\"WRB_Diff\",\"TDY_Diff\",\"GRMN_Diff\",\"CMS_Diff\",\"EPAM_Diff\",\"STLD_Diff\",\"BBY_Diff\",\"WST_Diff\",\"WAB_Diff\",\"DRI_Diff\",\"FSLR_Diff\",\"INVH_Diff\",\"MPWR_Diff\",\"AES_Diff\",\"JBHT_Diff\",\"ALGN_Diff\",\"AMCR_Diff\",\"ROL_Diff\",\"PAYC_Diff\",\"MAA_Diff\",\"IEX_Diff\",\"INCY_Diff\",\"TTWO_Diff\",\"BALL_Diff\",\"OMC_Diff\",\"CLX_Diff\",\"DGX_Diff\",\"CINF_Diff\",\"EXPD_Diff\",\"MRO_Diff\",\"MOH_Diff\",\"KEY_Diff\",\"COO_Diff\",\"BRO_Diff\",\"TRGP_Diff\",\"SEDG_Diff\",\"FOX_Diff\",\"FOXA_Diff\",\"PKI_Diff\",\"SJM_Diff\",\"HWM_Diff\",\"CPB_Diff\",\"LYV_Diff\",\"BR_Diff\",\"CF_Diff\",\"FMC_Diff\",\"J_Diff\",\"ATO_Diff\",\"ETSY_Diff\",\"FDS_Diff\",\"SWKS_Diff\",\"UAL_Diff\",\"ZBRA_Diff\",\"NVR_Diff\",\"AVY_Diff\",\"MOS_Diff\",\"PTC_Diff\",\"RCL_Diff\",\"LKQ_Diff\",\"MGM_Diff\",\"SYF_Diff\",\"TXT_Diff\",\"TER_Diff\",\"EVRG_Diff\",\"CPRT_Diff\",\"BEN_Diff\",\"IRM_Diff\",\"VTRS_Diff\",\"EXPE_Diff\",\"FLT_Diff\",\"LW_Diff\",\"GEN_Diff\",\"PEAK_Diff\",\"L_Diff\",\"KIM_Diff\",\"APA_Diff\",\"IPG_Diff\",\"ESS_Diff\",\"NTAP_Diff\",\"RE_Diff\",\"NDSN_Diff\",\"LNT_Diff\",\"AKAM_Diff\",\"LDOS_Diff\",\"IP_Diff\",\"TYL_Diff\",\"TRMB_Diff\",\"SNA_Diff\",\"UDR_Diff\",\"PARA_Diff\",\"JKHY_Diff\",\"CBOE_Diff\",\"CE_Diff\",\"BIO_Diff\",\"POOL_Diff\",\"MTCH_Diff\",\"EQT_Diff\",\"SWK_Diff\",\"PKG_Diff\",\"WDC_Diff\",\"TFX_Diff\",\"MKTX_Diff\",\"CPT_Diff\",\"DPZ_Diff\",\"CRL_Diff\",\"GL_Diff\",\"STX_Diff\",\"HST_Diff\",\"VFC_Diff\",\"MAS_Diff\",\"NWS_Diff\",\"NWSA_Diff\",\"NI_Diff\",\"PHM_Diff\",\"CHRW_Diff\",\"WYNN_Diff\",\"HSIC_Diff\",\"CCL_Diff\",\"EMN_Diff\",\"KMX_Diff\",\"REG_Diff\",\"BXP_Diff\",\"UHS_Diff\",\"BBWI_Diff\",\"JNPR_Diff\",\"TPR_Diff\",\"BWA_Diff\",\"AAL_Diff\",\"ALLE_Diff\",\"QRVO_Diff\",\"CZR_Diff\",\"CDAY_Diff\",\"WRK_Diff\",\"AOS_Diff\",\"AAP_Diff\",\"HII_Diff\",\"HAS_Diff\",\"IVZ_Diff\",\"CMA_Diff\",\"FFIV_Diff\",\"CTLT_Diff\",\"PNW_Diff\",\"WHR_Diff\",\"FRT_Diff\",\"RHI_Diff\",\"PNR_Diff\",\"DISH_Diff\",\"SEE_Diff\",\"RL_Diff\",\"ZION_Diff\",\"OGN_Diff\",\"NRG_Diff\",\"XRAY_Diff\",\"MHK_Diff\",\"DVA_Diff\",\"GNRC_Diff\",\"AIZ_Diff\",\"DXC_Diff\",\"NWL_Diff\",\"ALK_Diff\",\"NCLH_Diff\",\"LUMN_Diff\",\"LNC_Diff\",\"VNO_Diff\",\"TECH_Diff\",\"TAP_Diff\"],\"xaxis\":\"x\",\"y\":[2.2797573822738673,3.785163840467351,1.7085240335444238,1.70544713245311,2.590918028117311,5.684315289109181,1.1908177936396926,1.4991561890200995,2.8315109237384264,1.724455378917434,5.338086387739327,1.5555024712014434,7.938758535112363,1.4385825723277903,4.6519945484992995,5.2538402087340685,1.8878644745113269,3.667115186804774,4.15527062960113,1.4391901154023794,0.9396744007951211,0.5259619312722613,0.5750293498079733,0.6116616997183819,1.5438447578742078,7.8769975904784335,1.0208395178458107,7.548336039403362,6.0131087886533265,0.5876635566076559,1.393589857986017,2.435188952633707,1.820614272372177,3.757509298400656,1.7238240803848597,3.9640484365119857,2.1117595764818886,0.4700035079665259,1.071197194367737,0.645931015665228,0.7212606436572033,2.394879857462883,3.5329683891883583,1.0417918093732808,2.321587333597882,8.394182350368654,0.7344115696126817,1.2370988052234524,1.1704959477390828,3.949080338951406,1.5883511975252143,1.2008167500622655,2.9509943306800928,9.155542742082005,2.3989092155220315,0.22541697130770177,2.631595062592606,2.678167793380794,1.442048792018353,5.514218466712921,2.9289186303579107,2.9218653925435807,4.49265231904966,1.2740011095523616,0.7916173125869136,5.283441541037527,4.924854215161421,4.450779033431297,1.0690909610279298,10.147269478644539,2.408154374124638,6.12081117806907,2.681751051495406,0.842666926377649,8.623114420932158,1.8843782739691584,1.2661912198702592,3.789868676384734,2.7024193631626137,3.464269367197271,4.562123035432613,1.0170314398933122,4.327007283193408,0.9073926062498205,2.389560827107311,3.635612891852941,0.6298294337952014,2.6062385475275103,3.645228742585945,2.4038972930369815,40.1058073041959,1.762534372658713,0.5344628083304344,1.2750159040354834,1.1063225571935404,0.8256871729993456,0.7798202943316429,1.5469724404580385,11.36262475553625,6.0524201533700275,4.429688411424419,1.9459636636777216,10.348343444787918,2.3907407505885803,2.8260755815948397,8.258372070549212,3.1573544823521233,1.9447650118104705,3.499763639192903,0.7526636571564517,2.479388807504638,3.552803545392931,0.42968247807169807,2.393515694068036,2.5213306538710527,0.5689342282552261,0.7616997891302502,1.579132594133224,11.890315547037499,1.6559528187281918,0.775368417691341,2.67006822591415,1.8786272224664617,2.4444256888906106,3.706657617146985,3.6997226446957496,11.868061156842746,1.5464291808748536,0.8565768798456675,6.6506195933593615,1.0599581842105734,1.4395752946664424,7.268976396787168,3.452960341060835,9.018961637881455,1.1953494223157715,1.1216139495512212,0.8154286009329608,3.538375456411004,1.500864502765841,4.685392302249687,3.5080789410312407,2.881703795071403,0.5947841701618082,0.4636908610107098,8.473801890333586,0.9249841366409556,2.078625058400943,5.337723497937397,1.8264098520861292,0.2774372548128875,0.39428307622365355,1.1397534772810252,0.7657943591569546,4.0167142541955005,2.7557675137961084,1.6740712618009617,5.645018494839672,3.514440661547369,1.5955203213217408,1.040359099449462,0.9126508371156221,0.8506275681045488,0.8000138023436777,2.0860310499843107,1.892431486070683,1.3865429362639494,26.342644998062042,5.345485948039109,2.7497235464532728,1.987589143102483,0.678327014186298,2.061833183346423,0.7561441442513631,2.9311424239090247,0.49406504535890505,2.715605070804832,1.3376304899634666,3.576820511170118,2.559006761497385,1.4341246390412334,1.0514046501517718,0.22746656670884988,4.864734328200215,2.2418726240357865,1.4014907392971998,1.095534942445819,1.8902161174478311,1.0375410732302823,1.8798435119779786,1.9707682823083057,2.8598016931526615,7.005995049445482,1.2169405331612386,25.760681079124925,0.79185992935465,1.3696966993029525,3.4062383736213206,4.296913045178243,0.8859553095034858,0.8306146065462916,1.9454410044850374,0.38867997518445385,1.806318146587891,8.568962837011702,9.164784712479552,0.6848488674697091,2.556994440408579,3.082825577810419,1.2756232785720067,2.274851791709315,1.6500533259939005,0.6638471905671055,1.3579009248412082,0.6993305918949818,1.062429885737483,10.58120964601945,1.3476667339612645,2.0584061711880195,2.284326204396343,0.8093983515626733,3.1935639931480324,1.0115290529729049,1.7323461115577956,1.900289246594868,4.026931766351012,1.0362526991037748,1.2119700957630455,20.900108415775186,4.929160708178612,5.305966171492963,0.6950266785637464,1.5162297313347293,2.149117863317294,0.41851691116333833,1.6655191055116696,3.6976491036186583,0.6884621043333291,2.3226346698473757,0.7620669114278213,0.24915299724569703,1.5011906391355299,1.0051529898184917,6.821227169811059,3.278999926479472,0.9091211874605974,1.20830018573188,0.5463167395220512,0.7376641974920327,1.036845618933102,7.414979276257731,1.9667244039822034,0.4986311639121076,1.4295861208809761,1.4507478840739625,1.1326729105603572,1.956553071832662,2.130623914316699,2.0876272268313087,2.471291975609877,1.8638381382221312,0.49389318691920325,6.711138423030787,2.8815538369779414,3.27909670895082,1.410898401986166,0.7075213167054014,1.8702215867893084,1.6142156907798002,2.4205063850140913,2.4438145415303234,6.222568434567927,4.4857336926679325,5.283621140515797,1.3113677661932186,2.0121246565282918,0.8571470963100221,2.701336722737809,2.504447160735107,6.5105975638074725,3.4973468050354817,0.5456091911538455,2.4238035718646946,3.1153280443301337,1.0232669006877795,0.8392587207568863,0.5709139607047794,2.7027502421639387,0.9566276960132876,2.326430067666518,0.7522356580922248,1.5041559606072894,1.732764816005633,0.9509476087506021,0.6423014062887507,0.5311848110689756,0.9001053877080217,0.6962283475560801,1.3546172070606246,1.0143725020985672,1.0466601464857233,0.7806389763546701,2.665983416791832,2.839012143965468,1.127547674976274,2.972651184834848,0.34209205979256074,1.0073514396565457,1.4453506670337652,0.22696616455017826,3.437763003116841,5.849273627625849,0.87218108928416,1.0347266296127198,5.458489361936778,0.24753136248002833,1.3825747047848722,0.4013258869302402,0.875506813363329,4.755644737492728,0.7469675123123751,3.006556555248378,1.9850310022319573,1.066852314287822,1.135395674907621,0.49237417713574577,1.6338734335526444,0.8565753931375116,2.5192702274373273,1.7983859363373385,0.4288032628361471,0.35192720335695077,0.7561207378226089,5.907174052248753,1.6325542985262946,0.7749096684553993,11.15620767224505,1.6665668724892813,1.7599460659754116,5.74113808140385,1.35380087453935,2.231103671452303,2.7218981153068387,0.4933639338963281,10.407345100634833,0.3941901805613338,2.846793370708838,10.535264718257203,0.13921569176111853,0.5714337203599578,8.367372405336251,2.249330918827168,2.646732871220119,1.4641446811639638,2.8345738062908383,1.239820626623843,1.0499235726219593,2.294294992587687,1.8374772517979296,1.7281862338412757,1.5732933640376605,0.470268617898045,4.98393875713756,0.3415520452380704,5.3597564703485645,0.8199023854894089,1.0695072700437422,9.290832186704481,0.5899911696297421,0.6465227065651546,2.622805290099833,1.620068084860476,0.6010445882832922,0.6313726596136894,2.094105462948292,1.9895761920412005,1.735010013294071,1.636469256689082,1.7719788269368328,1.3549039348062528,5.431567360420806,5.508716008446519,2.7708274615446253,1.2502846334623745,7.442053979087596,80.37386722488728,2.556310364606543,1.1035591039469883,2.1639226823331748,2.051183683490891,0.7487582359388264,0.8608794245683731,0.7494090101090188,1.0256799458206596,2.501691925912686,0.8232225648387882,0.9666050696745337,0.5009269533830234,0.710987905049924,0.27467537046804463,3.2488513382030884,4.261104576747406,1.1575688892465623,0.41123663888661505,0.44842067371504235,0.7023765411792268,0.3451839842851048,0.8757727282908684,0.4619328274473991,4.119157027896423,1.1584060652958093,4.191818405370093,3.0962714856183777,0.7332715288024629,1.5088149469972403,1.4203773047923016,0.6206891794062891,7.550289244249355,1.2406183946065408,2.897182884090901,0.6653445072094338,1.2475210212301882,2.6205538967175475,1.8844739876281633,2.1819749508122612,10.746753228360474,7.681490087361543,2.9520625948729715,0.845752913106916,2.458863976577432,1.848396851583544,1.2183049278022522,5.607578208746052,9.364505423360571,1.7648040091983779,6.741765035055732,5.3031188694928435,1.389327722459252,1.4985119803167766,0.33570871815834313,1.0915972837477488,0.848671536496776,0.3425743930000788,0.3447632243282478,0.3499951141079221,0.9530639309375278,1.4137711025278494,2.2565681452868063,1.1460882257993779,0.6285463374548453,1.5418575728491053,2.2044524972747563,0.96832290267921,1.649183676395168,2.3078610819359784,1.106480626545936,0.40096159803132386,0.7278614761566323,0.7586009279835798,0.5212896991480608,1.7278148109759355,2.8991772640903473,2.1442240642374744,2.0051307259851336,0.803572027946212,0.9553458467189186,2.9421353688661074,2.9110526197107394,1.3537179898360059,0.3808451203587379,1.3481756228945858,2.7480094196883766,2.0509593771577643,1.0069979362411974,3.2970726617254575,1.6738710627533155,1.4273184769138003,0.8805417631439518,0.7550938358997491,0.8219222935694338,2.2049501249211088,1.0690008040211647,0.6415521598551622,0.6386486247532275,0.8210684333130821,3.138830119909833,1.7700714241898725,7.323955849778987,2.069126425533481,0.7144583740686733,0.37686990160324907,1.1436048765208913,0.7190168460957698,0.22742766330798106,1.1514531780238593,0.726413267595781,1.8282259199583475,0.7983799678232525],\"yaxis\":\"y\",\"type\":\"scatter\"}],                        {\"template\":{\"data\":{\"histogram2dcontour\":[{\"type\":\"histogram2dcontour\",\"colorbar\":{\"outlinewidth\":0,\"ticks\":\"\"},\"colorscale\":[[0.0,\"#0d0887\"],[0.1111111111111111,\"#46039f\"],[0.2222222222222222,\"#7201a8\"],[0.3333333333333333,\"#9c179e\"],[0.4444444444444444,\"#bd3786\"],[0.5555555555555556,\"#d8576b\"],[0.6666666666666666,\"#ed7953\"],[0.7777777777777778,\"#fb9f3a\"],[0.8888888888888888,\"#fdca26\"],[1.0,\"#f0f921\"]]}],\"choropleth\":[{\"type\":\"choropleth\",\"colorbar\":{\"outlinewidth\":0,\"ticks\":\"\"}}],\"histogram2d\":[{\"type\":\"histogram2d\",\"colorbar\":{\"outlinewidth\":0,\"ticks\":\"\"},\"colorscale\":[[0.0,\"#0d0887\"],[0.1111111111111111,\"#46039f\"],[0.2222222222222222,\"#7201a8\"],[0.3333333333333333,\"#9c179e\"],[0.4444444444444444,\"#bd3786\"],[0.5555555555555556,\"#d8576b\"],[0.6666666666666666,\"#ed7953\"],[0.7777777777777778,\"#fb9f3a\"],[0.8888888888888888,\"#fdca26\"],[1.0,\"#f0f921\"]]}],\"heatmap\":[{\"type\":\"heatmap\",\"colorbar\":{\"outlinewidth\":0,\"ticks\":\"\"},\"colorscale\":[[0.0,\"#0d0887\"],[0.1111111111111111,\"#46039f\"],[0.2222222222222222,\"#7201a8\"],[0.3333333333333333,\"#9c179e\"],[0.4444444444444444,\"#bd3786\"],[0.5555555555555556,\"#d8576b\"],[0.6666666666666666,\"#ed7953\"],[0.7777777777777778,\"#fb9f3a\"],[0.8888888888888888,\"#fdca26\"],[1.0,\"#f0f921\"]]}],\"heatmapgl\":[{\"type\":\"heatmapgl\",\"colorbar\":{\"outlinewidth\":0,\"ticks\":\"\"},\"colorscale\":[[0.0,\"#0d0887\"],[0.1111111111111111,\"#46039f\"],[0.2222222222222222,\"#7201a8\"],[0.3333333333333333,\"#9c179e\"],[0.4444444444444444,\"#bd3786\"],[0.5555555555555556,\"#d8576b\"],[0.6666666666666666,\"#ed7953\"],[0.7777777777777778,\"#fb9f3a\"],[0.8888888888888888,\"#fdca26\"],[1.0,\"#f0f921\"]]}],\"contourcarpet\":[{\"type\":\"contourcarpet\",\"colorbar\":{\"outlinewidth\":0,\"ticks\":\"\"}}],\"contour\":[{\"type\":\"contour\",\"colorbar\":{\"outlinewidth\":0,\"ticks\":\"\"},\"colorscale\":[[0.0,\"#0d0887\"],[0.1111111111111111,\"#46039f\"],[0.2222222222222222,\"#7201a8\"],[0.3333333333333333,\"#9c179e\"],[0.4444444444444444,\"#bd3786\"],[0.5555555555555556,\"#d8576b\"],[0.6666666666666666,\"#ed7953\"],[0.7777777777777778,\"#fb9f3a\"],[0.8888888888888888,\"#fdca26\"],[1.0,\"#f0f921\"]]}],\"surface\":[{\"type\":\"surface\",\"colorbar\":{\"outlinewidth\":0,\"ticks\":\"\"},\"colorscale\":[[0.0,\"#0d0887\"],[0.1111111111111111,\"#46039f\"],[0.2222222222222222,\"#7201a8\"],[0.3333333333333333,\"#9c179e\"],[0.4444444444444444,\"#bd3786\"],[0.5555555555555556,\"#d8576b\"],[0.6666666666666666,\"#ed7953\"],[0.7777777777777778,\"#fb9f3a\"],[0.8888888888888888,\"#fdca26\"],[1.0,\"#f0f921\"]]}],\"mesh3d\":[{\"type\":\"mesh3d\",\"colorbar\":{\"outlinewidth\":0,\"ticks\":\"\"}}],\"scatter\":[{\"fillpattern\":{\"fillmode\":\"overlay\",\"size\":10,\"solidity\":0.2},\"type\":\"scatter\"}],\"parcoords\":[{\"type\":\"parcoords\",\"line\":{\"colorbar\":{\"outlinewidth\":0,\"ticks\":\"\"}}}],\"scatterpolargl\":[{\"type\":\"scatterpolargl\",\"marker\":{\"colorbar\":{\"outlinewidth\":0,\"ticks\":\"\"}}}],\"bar\":[{\"error_x\":{\"color\":\"#2a3f5f\"},\"error_y\":{\"color\":\"#2a3f5f\"},\"marker\":{\"line\":{\"color\":\"#E5ECF6\",\"width\":0.5},\"pattern\":{\"fillmode\":\"overlay\",\"size\":10,\"solidity\":0.2}},\"type\":\"bar\"}],\"scattergeo\":[{\"type\":\"scattergeo\",\"marker\":{\"colorbar\":{\"outlinewidth\":0,\"ticks\":\"\"}}}],\"scatterpolar\":[{\"type\":\"scatterpolar\",\"marker\":{\"colorbar\":{\"outlinewidth\":0,\"ticks\":\"\"}}}],\"histogram\":[{\"marker\":{\"pattern\":{\"fillmode\":\"overlay\",\"size\":10,\"solidity\":0.2}},\"type\":\"histogram\"}],\"scattergl\":[{\"type\":\"scattergl\",\"marker\":{\"colorbar\":{\"outlinewidth\":0,\"ticks\":\"\"}}}],\"scatter3d\":[{\"type\":\"scatter3d\",\"line\":{\"colorbar\":{\"outlinewidth\":0,\"ticks\":\"\"}},\"marker\":{\"colorbar\":{\"outlinewidth\":0,\"ticks\":\"\"}}}],\"scattermapbox\":[{\"type\":\"scattermapbox\",\"marker\":{\"colorbar\":{\"outlinewidth\":0,\"ticks\":\"\"}}}],\"scatterternary\":[{\"type\":\"scatterternary\",\"marker\":{\"colorbar\":{\"outlinewidth\":0,\"ticks\":\"\"}}}],\"scattercarpet\":[{\"type\":\"scattercarpet\",\"marker\":{\"colorbar\":{\"outlinewidth\":0,\"ticks\":\"\"}}}],\"carpet\":[{\"aaxis\":{\"endlinecolor\":\"#2a3f5f\",\"gridcolor\":\"white\",\"linecolor\":\"white\",\"minorgridcolor\":\"white\",\"startlinecolor\":\"#2a3f5f\"},\"baxis\":{\"endlinecolor\":\"#2a3f5f\",\"gridcolor\":\"white\",\"linecolor\":\"white\",\"minorgridcolor\":\"white\",\"startlinecolor\":\"#2a3f5f\"},\"type\":\"carpet\"}],\"table\":[{\"cells\":{\"fill\":{\"color\":\"#EBF0F8\"},\"line\":{\"color\":\"white\"}},\"header\":{\"fill\":{\"color\":\"#C8D4E3\"},\"line\":{\"color\":\"white\"}},\"type\":\"table\"}],\"barpolar\":[{\"marker\":{\"line\":{\"color\":\"#E5ECF6\",\"width\":0.5},\"pattern\":{\"fillmode\":\"overlay\",\"size\":10,\"solidity\":0.2}},\"type\":\"barpolar\"}],\"pie\":[{\"automargin\":true,\"type\":\"pie\"}]},\"layout\":{\"autotypenumbers\":\"strict\",\"colorway\":[\"#636efa\",\"#EF553B\",\"#00cc96\",\"#ab63fa\",\"#FFA15A\",\"#19d3f3\",\"#FF6692\",\"#B6E880\",\"#FF97FF\",\"#FECB52\"],\"font\":{\"color\":\"#2a3f5f\"},\"hovermode\":\"closest\",\"hoverlabel\":{\"align\":\"left\"},\"paper_bgcolor\":\"white\",\"plot_bgcolor\":\"#E5ECF6\",\"polar\":{\"bgcolor\":\"#E5ECF6\",\"angularaxis\":{\"gridcolor\":\"white\",\"linecolor\":\"white\",\"ticks\":\"\"},\"radialaxis\":{\"gridcolor\":\"white\",\"linecolor\":\"white\",\"ticks\":\"\"}},\"ternary\":{\"bgcolor\":\"#E5ECF6\",\"aaxis\":{\"gridcolor\":\"white\",\"linecolor\":\"white\",\"ticks\":\"\"},\"baxis\":{\"gridcolor\":\"white\",\"linecolor\":\"white\",\"ticks\":\"\"},\"caxis\":{\"gridcolor\":\"white\",\"linecolor\":\"white\",\"ticks\":\"\"}},\"coloraxis\":{\"colorbar\":{\"outlinewidth\":0,\"ticks\":\"\"}},\"colorscale\":{\"sequential\":[[0.0,\"#0d0887\"],[0.1111111111111111,\"#46039f\"],[0.2222222222222222,\"#7201a8\"],[0.3333333333333333,\"#9c179e\"],[0.4444444444444444,\"#bd3786\"],[0.5555555555555556,\"#d8576b\"],[0.6666666666666666,\"#ed7953\"],[0.7777777777777778,\"#fb9f3a\"],[0.8888888888888888,\"#fdca26\"],[1.0,\"#f0f921\"]],\"sequentialminus\":[[0.0,\"#0d0887\"],[0.1111111111111111,\"#46039f\"],[0.2222222222222222,\"#7201a8\"],[0.3333333333333333,\"#9c179e\"],[0.4444444444444444,\"#bd3786\"],[0.5555555555555556,\"#d8576b\"],[0.6666666666666666,\"#ed7953\"],[0.7777777777777778,\"#fb9f3a\"],[0.8888888888888888,\"#fdca26\"],[1.0,\"#f0f921\"]],\"diverging\":[[0,\"#8e0152\"],[0.1,\"#c51b7d\"],[0.2,\"#de77ae\"],[0.3,\"#f1b6da\"],[0.4,\"#fde0ef\"],[0.5,\"#f7f7f7\"],[0.6,\"#e6f5d0\"],[0.7,\"#b8e186\"],[0.8,\"#7fbc41\"],[0.9,\"#4d9221\"],[1,\"#276419\"]]},\"xaxis\":{\"gridcolor\":\"white\",\"linecolor\":\"white\",\"ticks\":\"\",\"title\":{\"standoff\":15},\"zerolinecolor\":\"white\",\"automargin\":true,\"zerolinewidth\":2},\"yaxis\":{\"gridcolor\":\"white\",\"linecolor\":\"white\",\"ticks\":\"\",\"title\":{\"standoff\":15},\"zerolinecolor\":\"white\",\"automargin\":true,\"zerolinewidth\":2},\"scene\":{\"xaxis\":{\"backgroundcolor\":\"#E5ECF6\",\"gridcolor\":\"white\",\"linecolor\":\"white\",\"showbackground\":true,\"ticks\":\"\",\"zerolinecolor\":\"white\",\"gridwidth\":2},\"yaxis\":{\"backgroundcolor\":\"#E5ECF6\",\"gridcolor\":\"white\",\"linecolor\":\"white\",\"showbackground\":true,\"ticks\":\"\",\"zerolinecolor\":\"white\",\"gridwidth\":2},\"zaxis\":{\"backgroundcolor\":\"#E5ECF6\",\"gridcolor\":\"white\",\"linecolor\":\"white\",\"showbackground\":true,\"ticks\":\"\",\"zerolinecolor\":\"white\",\"gridwidth\":2}},\"shapedefaults\":{\"line\":{\"color\":\"#2a3f5f\"}},\"annotationdefaults\":{\"arrowcolor\":\"#2a3f5f\",\"arrowhead\":0,\"arrowwidth\":1},\"geo\":{\"bgcolor\":\"white\",\"landcolor\":\"#E5ECF6\",\"subunitcolor\":\"white\",\"showland\":true,\"showlakes\":true,\"lakecolor\":\"white\"},\"title\":{\"x\":0.05},\"mapbox\":{\"style\":\"light\"}}},\"xaxis\":{\"anchor\":\"y\",\"domain\":[0.0,1.0],\"title\":{\"text\":\"index\"}},\"yaxis\":{\"anchor\":\"x\",\"domain\":[0.0,1.0],\"title\":{\"text\":\"value\"}},\"legend\":{\"title\":{\"text\":\"variable\"},\"tracegroupgap\":0},\"title\":{\"text\":\"TAP Price change\"}},                        {\"responsive\": true}                    ).then(function(){\n",
              "                            \n",
              "var gd = document.getElementById('ad63b55f-60a1-4d45-b6ec-bbf5e46a0933');\n",
              "var x = new MutationObserver(function (mutations, observer) {{\n",
              "        var display = window.getComputedStyle(gd).display;\n",
              "        if (!display || display === 'none') {{\n",
              "            console.log([gd, 'removed!']);\n",
              "            Plotly.purge(gd);\n",
              "            observer.disconnect();\n",
              "        }}\n",
              "}});\n",
              "\n",
              "// Listen for the removal of the full notebook cells\n",
              "var notebookContainer = gd.closest('#notebook-container');\n",
              "if (notebookContainer) {{\n",
              "    x.observe(notebookContainer, {childList: true});\n",
              "}}\n",
              "\n",
              "// Listen for the clearing of the current output cell\n",
              "var outputEl = gd.closest('.output');\n",
              "if (outputEl) {{\n",
              "    x.observe(outputEl, {childList: true});\n",
              "}}\n",
              "\n",
              "                        })                };                            </script>        </div>\n",
              "</body>\n",
              "</html>"
            ]
          },
          "metadata": {}
        }
      ],
      "source": [
        "#print(stocks_spread.describe())\n",
        "std = stocks_spread.describe().loc['std']\n",
        "mean = stocks_spread.describe().loc['mean']\n",
        "std = pd.DataFrame.from_dict(std)\n",
        "std.columns = ['std',]\n",
        "\n",
        "mean = pd.DataFrame.from_dict(mean)\n",
        "mean.columns = ['mean',]\n",
        "\n",
        "fig = px.line(std, title=stock + \" Price change\", markers=True) \n",
        "fig.show()"
      ]
    },
    {
      "cell_type": "code",
      "execution_count": 70,
      "metadata": {
        "id": "lp-4QD8H-HtR"
      },
      "outputs": [],
      "source": [
        "# Determine what stocks are in buy zone and what stocks are in sell zone\n",
        "# Start date of the investing\n",
        "\n",
        "def getsellbuy(index, portfolio):\n",
        "  latest = {}\n",
        "  for s in stocks:\n",
        "      latest[s + \"_Diff\"] = stocks_ts.loc[index][s+\"_Close\"] - stocks_ts.loc[index][s+\"_Open\"]\n",
        "\n",
        "  latest = pd.Series(latest)\n",
        "  pd.DataFrame.from_dict(latest)\n",
        "  latest_diff = pd.DataFrame.from_dict(latest)\n",
        "  latest_diff.columns = ['diff',]\n",
        "  #latest_diff = latest_diff.iloc[::-1]\n",
        "\n",
        "  latest_diff['std'] = std['std']\n",
        "\n",
        "  # Find stocks that are in buy range\n",
        "  latest_diff['buy'] = np.where(((mean['mean'] > 0) & (latest_diff['diff'] < 0) & (latest_diff['diff'] < -buy_trigger * std['std'])), True, False)\n",
        "\n",
        "  # Find stocks that are in sell range\n",
        "  latest_diff['sell'] = False #np.where((latest_diff['diff'] >= std['std']), True, False)\n",
        "  for s in stocks:\n",
        "    if s in portfolio:\n",
        "      t = index - portfolio[s]['date']\n",
        "      avg = sum(portfolio[s]['costs'])/len(portfolio[s]['costs'])\n",
        "      if avg + sell_trigger * std['std'][s+\"_Diff\"] <= stocks_ts.loc[index, s+\"_Close\"]:\n",
        "        # If the avg cost of the security has grown more than std\n",
        "        #print(s, avg, portfolio[s]['costs'], std['std'][s+\"_Diff\"], stocks_ts.loc[index, s+\"_Close\"])\n",
        "        latest_diff.at[s+\"_Diff\", 'sell'] = True\n",
        "      elif t.days > security_age:\n",
        "        # if the security has aged for certain days, cut the losses\n",
        "        latest_diff.at[s+\"_Diff\", 'sell'] = True\n",
        "  \n",
        "  # Print which stocks are buy and which are sell\n",
        "  #print(\"Stock to Buy on \" + str(index))\n",
        "  #print(latest_diff[latest_diff['buy']])\n",
        "  #print()\n",
        "  #print(\"Stocks to Sell on \" + str(index))\n",
        "  #print(latest_diff[latest_diff['sell']])\n",
        "  \n",
        "  return latest_diff[latest_diff['sell']], latest_diff[latest_diff['buy']]\n"
      ]
    },
    {
      "cell_type": "code",
      "execution_count": 71,
      "metadata": {
        "id": "PFnwTp8seZNo"
      },
      "outputs": [],
      "source": [
        "# We assume that we invest $100 in each stock that is in the buy zone\n",
        "# and sell all stocks in the sell zone\n",
        "\n",
        "# We will start back testing from year back. We can always change the starting point and tune the model.\n",
        "\n",
        "def calculate_networth(backtest_start_date):\n",
        "  networth = current_account\n",
        "  for stock, value in portfolio.items():\n",
        "    networth += value['shares'] * stocks_ts.loc[backtest_start_date][stock+\"_Close\"]\n",
        "  return networth\n",
        "\n",
        "def do_one_backtesting(tradingdays_togoback):\n",
        "  global portfolio\n",
        "  global original_balance\n",
        "  global current_account\n",
        "\n",
        "  original_balance = 10000\n",
        "  current_account = original_balance\n",
        "  portfolio = {}\n",
        "\n",
        "  idx = int(len(stocks_ts.index)- tradingdays_togoback)\n",
        "  price_movement = []\n",
        "  for backtest_start_date in stocks_ts.index[idx:]:\n",
        "      sell, buy = getsellbuy(backtest_start_date, portfolio)\n",
        "\n",
        "      # process the stocks that are marked sell\n",
        "      for st in sell.iterrows():\n",
        "        stock = st[0].split('_')[0]\n",
        "        if stock in portfolio:\n",
        "          current_account += portfolio[stock]['shares'] * stocks_ts.loc[backtest_start_date][stock+\"_Close\"]\n",
        "          portfolio.pop(stock)\n",
        "      \n",
        "      # buy stocks that are marked by. We are buying max_stocks_to_buy number of stocks\n",
        "      # TODO: The number of stocks to be must be adaptive. Will come up with some\n",
        "      # algorithm based on:\n",
        "      # 1. Market capitalization\n",
        "      # 2. volatility\n",
        "      # and other criteria\n",
        "      # The goal is to put the money to work\n",
        "      for st in buy.iterrows():\n",
        "        stock = st[0].split('_')[0]\n",
        "        if current_account > max_stocks_to_buy * stocks_ts.loc[backtest_start_date][stock+\"_Close\"]:\n",
        "          current_account -= max_stocks_to_buy * stocks_ts.loc[backtest_start_date][stock+\"_Close\"]\n",
        "          if not stock in portfolio:\n",
        "              assert portfolio.get(stock, None) == None\n",
        "              portfolio[stock] = {'shares': 0, 'costs':[], 'date': backtest_start_date}\n",
        "          portfolio[stock]['shares'] += max_stocks_to_buy\n",
        "          for i in range(portfolio[stock]['shares']):\n",
        "            portfolio[stock]['costs'].append(stocks_ts.loc[backtest_start_date][stock+\"_Close\"])\n",
        "\n",
        "      # lock in the gains after 10% increase of networth\n",
        "      nw = calculate_networth(backtest_start_date)\n",
        "      price_movement.append(nw)\n",
        "      if nw > original_balance * lockin_gains_factor:\n",
        "          #print(backtest_start_date, calculate_networth(backtest_start_date), current_account, portfolio)\n",
        "          for stock, value in portfolio.items():\n",
        "            current_account += value['shares'] * stocks_ts.loc[backtest_start_date][stock+\"_Close\"]\n",
        "          portfolio = {}\n",
        "          original_balance = current_account\n",
        "          #print(current_account, portfolio)\n",
        "      #print(current_account, portfolio)\n",
        "  return calculate_networth(backtest_start_date), current_account, price_movement"
      ]
    },
    {
      "cell_type": "code",
      "execution_count": 72,
      "metadata": {
        "colab": {
          "base_uri": "https://localhost:8080/",
          "height": 479
        },
        "id": "P5LLl7p1EI2o",
        "outputId": "6edf6c4f-2e28-470f-b393-1f77890c8381"
      },
      "outputs": [
        {
          "output_type": "stream",
          "name": "stdout",
          "text": [
            "Total networth: 11211 (Cash 9036) after going back 261\n",
            "Total networth: 10889 (Cash 8623) after going back 224\n",
            "Total networth: 10872 (Cash 8605) after going back 288\n",
            "Total networth: 10860 (Cash 8593) after going back 268\n",
            "Total networth: 11663 (Cash 8887) after going back 183\n",
            "Total networth: 10284 (Cash 8017) after going back 257\n",
            "Total networth: 10868 (Cash 8601) after going back 168\n",
            "Total networth: 11244 (Cash 9069) after going back 237\n",
            "Total networth: 12014 (Cash 9748) after going back 203\n",
            "Total networth: 12063 (Cash 9796) after going back 201\n",
            "networth\n"
          ]
        },
        {
          "output_type": "display_data",
          "data": {
            "text/plain": [
              "<Figure size 432x288 with 1 Axes>"
            ],
            "image/png": "[encoded data removed]"
          },
          "metadata": {
            "needs_background": "light"
          }
        },
        {
          "output_type": "stream",
          "name": "stdout",
          "text": [
            "11197.242810249329\n"
          ]
        }
      ],
      "source": [
        "import random\n",
        "\n",
        "## Hyper parameters\n",
        "buy_trigger = 2    # times standard deviation\n",
        "sell_trigger = 1   # times the avg cost of the security to grow before we sell\n",
        "security_age = 15  # number of days to hold the security before we cut the losses\n",
        "lockin_gains_factor = 1000 # times the orignal amount to grow before we lockin the gains.\n",
        "\n",
        "nws = []\n",
        "for i in range(backtest_iterations):\n",
        "  original_balance = 10000\n",
        "  current_account = original_balance\n",
        "  portfolio = {}\n",
        "  tradingdays_togoback = random.randint(100, 300)\n",
        "  networth, current, pm = do_one_backtesting(tradingdays_togoback)\n",
        "  print(\"Total networth: %d (Cash %d) after going back %d\" % (networth, current_account, tradingdays_togoback))\n",
        "  #print(portfolio)\n",
        "  nws.append(networth)\n",
        "  #plt.plot(pm)\n",
        "  #plt.show()\n",
        "\n",
        "print(\"networth\")\n",
        "plt.plot(nws)\n",
        "plt.show()\n",
        "print(sum(nws)/len(nws))"
      ]
    },
    {
      "cell_type": "code",
      "execution_count": 73,
      "metadata": {
        "colab": {
          "base_uri": "https://localhost:8080/",
          "height": 479
        },
        "id": "pUI_1lzPfff2",
        "outputId": "5938b423-1232-4a23-9563-263fae387161"
      },
      "outputs": [
        {
          "output_type": "stream",
          "name": "stdout",
          "text": [
            "Total networth: 12306 (Cash 10284) after going back 176\n",
            "Total networth: 11250 (Cash 9074) after going back 261\n",
            "Total networth: 11196 (Cash 9021) after going back 275\n",
            "Total networth: 10284 (Cash 8017) after going back 257\n",
            "Total networth: 10532 (Cash 8510) after going back 107\n",
            "Total networth: 10672 (Cash 8406) after going back 108\n",
            "Total networth: 12307 (Cash 10285) after going back 190\n",
            "Total networth: 11484 (Cash 9217) after going back 235\n",
            "Total networth: 12293 (Cash 10118) after going back 184\n",
            "Total networth: 11542 (Cash 9428) after going back 198\n",
            "networth\n"
          ]
        },
        {
          "output_type": "display_data",
          "data": {
            "text/plain": [
              "<Figure size 432x288 with 1 Axes>"
            ],
            "image/png": "[encoded data removed]"
          },
          "metadata": {
            "needs_background": "light"
          }
        },
        {
          "output_type": "stream",
          "name": "stdout",
          "text": [
            "11387.189669132233\n"
          ]
        }
      ],
      "source": [
        "import random\n",
        "\n",
        "## Hyper parameters\n",
        "buy_trigger = 2    # times standard deviation\n",
        "sell_trigger = 1   # times the avg cost of the security to grow before we sell\n",
        "security_age = 15  # number of days to hold the security before we cut the losses\n",
        "lockin_gains_factor = 1.1 # times the orignal amount to grow before we lockin the gains.\n",
        "\n",
        "nws = []\n",
        "for i in range(backtest_iterations):\n",
        "  tradingdays_togoback = random.randint(100, 300)\n",
        "  networth, current, pm = do_one_backtesting(tradingdays_togoback)\n",
        "  print(\"Total networth: %d (Cash %d) after going back %d\" % (networth, current_account, tradingdays_togoback))\n",
        "  #print(portfolio)\n",
        "  nws.append(networth)\n",
        "  #plt.plot(pm)\n",
        "  #plt.show()\n",
        "\n",
        "print(\"networth\")\n",
        "plt.plot(nws)\n",
        "plt.show()\n",
        "print(sum(nws)/len(nws))"
      ]
    },
    {
      "cell_type": "code",
      "execution_count": 74,
      "metadata": {
        "colab": {
          "base_uri": "https://localhost:8080/",
          "height": 479
        },
        "id": "KuBHHgVLfoKb",
        "outputId": "183950bb-425a-4704-ed3e-50df07158e97"
      },
      "outputs": [
        {
          "output_type": "stream",
          "name": "stdout",
          "text": [
            "Total networth: 12461 (Cash 385) after going back 124\n",
            "Total networth: 11095 (Cash 657) after going back 138\n",
            "Total networth: 12602 (Cash 2160) after going back 211\n",
            "Total networth: 10688 (Cash 1294) after going back 282\n",
            "Total networth: 11216 (Cash 1039) after going back 147\n",
            "Total networth: 12433 (Cash 373) after going back 195\n",
            "Total networth: 12137 (Cash 1616) after going back 110\n",
            "Total networth: 10962 (Cash 256) after going back 136\n",
            "Total networth: 11096 (Cash 288) after going back 167\n",
            "Total networth: 12008 (Cash 1622) after going back 113\n",
            "networth\n"
          ]
        },
        {
          "output_type": "display_data",
          "data": {
            "text/plain": [
              "<Figure size 432x288 with 1 Axes>"
            ],
            "image/png": "[encoded data removed]"
          },
          "metadata": {
            "needs_background": "light"
          }
        },
        {
          "output_type": "stream",
          "name": "stdout",
          "text": [
            "11670.2962474823\n"
          ]
        }
      ],
      "source": [
        "import random\n",
        "\n",
        "## Hyper parameters\n",
        "buy_trigger = 2    # times standard deviation\n",
        "sell_trigger = 1   # times the avg cost of the security to grow before we sell\n",
        "security_age = 1000  # number of days to hold the security before we cut the losses\n",
        "lockin_gains_factor = 1.1 # times the orignal amount to grow before we lockin the gains.\n",
        "\n",
        "nws = []\n",
        "for i in range(backtest_iterations):\n",
        "  tradingdays_togoback = random.randint(100, 300)\n",
        "  networth, current, pm = do_one_backtesting(tradingdays_togoback)\n",
        "  print(\"Total networth: %d (Cash %d) after going back %d\" % (networth, current_account, tradingdays_togoback))\n",
        "  #print(portfolio)\n",
        "  nws.append(networth)\n",
        "  #plt.plot(pm)\n",
        "  #plt.show()\n",
        "\n",
        "print(\"networth\")\n",
        "plt.plot(nws)\n",
        "plt.show()\n",
        "print(sum(nws)/len(nws))"
      ]
    },
    {
      "cell_type": "code",
      "execution_count": 75,
      "metadata": {
        "colab": {
          "base_uri": "https://localhost:8080/",
          "height": 482
        },
        "id": "bwfe8inXvm12",
        "outputId": "25de6c37-4b63-4fbc-9c94-ee86ff6ae778"
      },
      "outputs": [
        {
          "output_type": "stream",
          "name": "stdout",
          "text": [
            "Total networth: 10792 (Cash 540) after going back 154\n",
            "Total networth: 12202 (Cash 1681) after going back 203\n",
            "Total networth: 10792 (Cash 540) after going back 158\n",
            "Total networth: 11934 (Cash 1324) after going back 204\n",
            "Total networth: 12661 (Cash 309) after going back 128\n",
            "Total networth: 10619 (Cash 295) after going back 107\n",
            "Total networth: 10816 (Cash 503) after going back 160\n",
            "Total networth: 10799 (Cash 1232) after going back 251\n",
            "Total networth: 12352 (Cash 362) after going back 212\n",
            "Total networth: 11937 (Cash 557) after going back 119\n",
            "networth\n"
          ]
        },
        {
          "output_type": "display_data",
          "data": {
            "text/plain": [
              "<Figure size 432x288 with 1 Axes>"
            ],
            "image/png": "[encoded data removed]"
          },
          "metadata": {
            "needs_background": "light"
          }
        },
        {
          "output_type": "stream",
          "name": "stdout",
          "text": [
            "11491.007379055023\n"
          ]
        }
      ],
      "source": [
        "import random\n",
        "\n",
        "## Hyper parameters\n",
        "buy_trigger = 2    # times standard deviation\n",
        "sell_trigger = 1   # times the avg cost of the security to grow before we sell\n",
        "security_age = 1000  # number of days to hold the security before we cut the losses\n",
        "lockin_gains_factor = 1.1 # times the orignal amount to grow before we lockin the gains.\n",
        "\n",
        "nws = []\n",
        "for i in range(backtest_iterations):\n",
        "  tradingdays_togoback = random.randint(100, 300)\n",
        "  networth, current, pm = do_one_backtesting(tradingdays_togoback)\n",
        "  print(\"Total networth: %d (Cash %d) after going back %d\" % (networth, current_account, tradingdays_togoback))\n",
        "  #print(portfolio)\n",
        "  nws.append(networth)\n",
        "  #plt.plot(pm)\n",
        "  #plt.show()\n",
        "\n",
        "print(\"networth\")\n",
        "plt.plot(nws)\n",
        "plt.show()\n",
        "print(sum(nws)/len(nws))"
      ]
    }
  ],
  "metadata": {
    "colab": {
      "provenance": [],
      "authorship_tag": "ABX9TyML+ztBtl+Z0eZDyK456j0Z",
      "include_colab_link": true
    },
    "kernelspec": {
      "display_name": "Python 3",
      "name": "python3"
    },
    "language_info": {
      "name": "python"
    }
  },
  "nbformat": 4,
  "nbformat_minor": 0
}